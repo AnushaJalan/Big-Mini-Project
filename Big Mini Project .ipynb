{
 "cells": [
  {
   "cell_type": "markdown",
   "id": "9ca0b3ff",
   "metadata": {},
   "source": [
    "This code checks when we run into an infinite loop vs when we reach a redundant box"
   ]
  },
  {
   "cell_type": "code",
   "execution_count": null,
   "id": "c246310f",
   "metadata": {},
   "outputs": [],
   "source": [
    "import random\n",
    "\n",
    "# Function to generate a random number and populate the box\n",
    "def initialize_box():\n",
    "    size = random.randint(1, 5)  # Random size of the box\n",
    "    box = []\n",
    "    type_1 = random.randint(0, size)\n",
    "    for _ in range(type_1):\n",
    "        box.append('A')\n",
    "    type_2 = random.randint(0, size - type_1)\n",
    "    for _ in range(type_2):\n",
    "        box.append('B')\n",
    "    type_3 = size - type_1 - type_2\n",
    "    for _ in range(type_3):\n",
    "        box.append('C')\n",
    "    return box"
   ]
  },
  {
   "cell_type": "code",
   "execution_count": null,
   "id": "63918300",
   "metadata": {},
   "outputs": [],
   "source": [
    "# Function to randomly choose pairs and update the box until equilibrium\n",
    "def update_box(box):\n",
    "    boxes = []  # List to store boxes from each iteration\n",
    "    iterations = 0  # Counter for the number of iterations\n",
    "    while True:\n",
    "        # Append the current box to the list\n",
    "        boxes.append(box.copy())\n",
    "        \n",
    "        # Check if all elements in the box are the same\n",
    "        if len(set(box)) == 1:\n",
    "            print('You have reached the redundant equilibrium stage after', iterations, 'iterations.')\n",
    "            break\n",
    "        \n",
    "        # Increment the iteration counter\n",
    "        iterations += 1\n",
    "        \n",
    "        # Check if maximum iterations reached\n",
    "        if iterations >= 60:  # Set a maximum number of iterations\n",
    "            print('The algorithm entered an infinite loop.')\n",
    "            break\n",
    "        \n",
    "        # Randomly choose two distinct indices\n",
    "        index1, index2 = random.sample(range(len(box)), 2)\n",
    "        \n",
    "        # Replace the pair based on the rules\n",
    "        if (box[index1], box[index2]) in [('A', 'B'), ('B', 'A')]:\n",
    "            # Replace the pair with 'C'\n",
    "            box[index1] = 'C'\n",
    "            box[index2] = 'C'\n",
    "        elif (box[index1], box[index2]) in [('A', 'C'), ('C', 'A')]:\n",
    "            # Replace the pair with 'B'\n",
    "            box[index1] = 'B'\n",
    "            box[index2] = 'B'\n",
    "        elif (box[index1], box[index2]) in [('B', 'C'), ('C', 'B')]:\n",
    "            # Replace the pair with 'A'\n",
    "            box[index1] = 'A'\n",
    "            box[index2] = 'A'\n",
    "\n",
    "    return boxes, iterations"
   ]
  },
  {
   "cell_type": "code",
   "execution_count": 17,
   "id": "cf93e548",
   "metadata": {},
   "outputs": [
    {
     "name": "stdout",
     "output_type": "stream",
     "text": [
      "Initial Box: ['A', 'A', 'C', 'C']\n",
      "You have reached the redundant equilibrium stage after 10 iterations.\n",
      "The final box is: ['B', 'B', 'B', 'B']\n"
     ]
    }
   ],
   "source": [
    "# Initialize the box\n",
    "box = initialize_box()\n",
    "print(\"Initial Box:\", box)\n",
    "\n",
    "# Update the box until equilibrium\n",
    "updated_boxes, iterations = update_box(box.copy())\n",
    "\n",
    "print('The final box is:', updated_boxes[-1])"
   ]
  },
  {
   "cell_type": "code",
   "execution_count": 21,
   "id": "b4b7a8aa",
   "metadata": {},
   "outputs": [
    {
     "name": "stdout",
     "output_type": "stream",
     "text": [
      "Frequency of Redundant Boxes: 406\n",
      "Frequency of Infinite Loops: 94\n"
     ]
    }
   ],
   "source": [
    "# Function to randomly choose pairs and update the box until equilibrium\n",
    "def update_box(box):\n",
    "    redundant_boxes = 0  # Counter for redundant boxes\n",
    "    infinite_loops = 0  # Counter for infinite loops\n",
    "    iterations = 0  # Counter for the number of iterations\n",
    "    while True:\n",
    "        # Check if all elements in the box are the same\n",
    "        if len(set(box)) == 1:\n",
    "            redundant_boxes += 1\n",
    "            break\n",
    "        \n",
    "        # Increment the iteration counter\n",
    "        iterations += 1\n",
    "        \n",
    "        # Check if maximum iterations reached\n",
    "        if iterations >= 60:  # Set a maximum number of iterations\n",
    "            infinite_loops += 1\n",
    "            break\n",
    "        \n",
    "        # Randomly choose two distinct indices\n",
    "        index1, index2 = random.sample(range(len(box)), 2)\n",
    "        \n",
    "        # Replace the pair based on the rules\n",
    "        if (box[index1], box[index2]) in [('A', 'B'), ('B', 'A')]:\n",
    "            # Replace the pair with 'C'\n",
    "            box[index1] = 'C'\n",
    "            box[index2] = 'C'\n",
    "        elif (box[index1], box[index2]) in [('A', 'C'), ('C', 'A')]:\n",
    "            # Replace the pair with 'B'\n",
    "            box[index1] = 'B'\n",
    "            box[index2] = 'B'\n",
    "        elif (box[index1], box[index2]) in [('B', 'C'), ('C', 'B')]:\n",
    "            # Replace the pair with 'A'\n",
    "            box[index1] = 'A'\n",
    "            box[index2] = 'A'\n",
    "\n",
    "    return iterations, redundant_boxes, infinite_loops\n",
    "\n",
    "# Initialize counters\n",
    "total_iterations = 0\n",
    "total_redundant_boxes = 0\n",
    "total_infinite_loops = 0\n",
    "\n",
    "# Run the algorithm over 100 iterations\n",
    "for _ in range(500):\n",
    "    # Initialize the box\n",
    "    box = initialize_box()\n",
    "\n",
    "    # Update the box until equilibrium\n",
    "    iterations, redundant_boxes, infinite_loops = update_box(box.copy())\n",
    "\n",
    "    # Update counters\n",
    "    total_iterations += iterations\n",
    "    total_redundant_boxes += redundant_boxes\n",
    "    total_infinite_loops += infinite_loops\n",
    "\n",
    "# Print the frequency of redundant boxes and infinite loops\n",
    "print(\"Frequency of Redundant Boxes:\", total_redundant_boxes)\n",
    "print(\"Frequency of Infinite Loops:\", total_infinite_loops)\n"
   ]
  },
  {
   "cell_type": "code",
   "execution_count": 33,
   "id": "df71db19",
   "metadata": {},
   "outputs": [
    {
     "data": {
      "image/png": "[encoded data removed]",
      "text/plain": [
       "<Figure size 432x288 with 1 Axes>"
      ]
     },
     "metadata": {
      "needs_background": "light"
     },
     "output_type": "display_data"
    }
   ],
   "source": [
    "total_iterations = 0\n",
    "total_redundant_boxes = 0\n",
    "total_infinite_loops = 0\n",
    "\n",
    "prob_redundant = []\n",
    "prob_infinite = []\n",
    "\n",
    "for i in range(1, 500): \n",
    "    box = initialize_box()\n",
    "    iterations, redundant_boxes, infinite_loops = update_box(box.copy())\n",
    "    total_iterations += iterations\n",
    "    total_redundant_boxes += redundant_boxes\n",
    "    total_infinite_loops += infinite_loops\n",
    "\n",
    "    # Calculate probabilities\n",
    "    prob_redundant.append(total_redundant_boxes / i)\n",
    "    prob_infinite.append(total_infinite_loops / i)\n",
    "\n",
    "# Plot the probabilities\n",
    "plt.plot(prob_redundant, label='Probability of Redundant Boxes', color='red')\n",
    "plt.plot(prob_infinite, label='Probability of Infinite Loops', color='black')\n",
    "plt.xlabel('Iterations')\n",
    "plt.ylabel('Probability')\n",
    "plt.title('Convergence Behavior')\n",
    "plt.legend()\n",
    "plt.show()\n"
   ]
  },
  {
   "cell_type": "code",
   "execution_count": null,
   "id": "be381095",
   "metadata": {},
   "outputs": [],
   "source": []
  }
 ],
 "metadata": {
  "kernelspec": {
   "display_name": "Python 3 (ipykernel)",
   "language": "python",
   "name": "python3"
  },
  "language_info": {
   "codemirror_mode": {
    "name": "ipython",
    "version": 3
   },
   "file_extension": ".py",
   "mimetype": "text/x-python",
   "name": "python",
   "nbconvert_exporter": "python",
   "pygments_lexer": "ipython3",
   "version": "3.9.7"
  }
 },
 "nbformat": 4,
 "nbformat_minor": 5
}
